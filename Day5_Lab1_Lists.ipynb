{
  "nbformat": 4,
  "nbformat_minor": 0,
  "metadata": {
    "colab": {
      "provenance": []
    },
    "kernelspec": {
      "name": "python3",
      "display_name": "Python 3"
    },
    "language_info": {
      "name": "python"
    }
  },
  "cells": [
    {
      "cell_type": "code",
      "execution_count": 10,
      "metadata": {
        "colab": {
          "base_uri": "https://localhost:8080/"
        },
        "id": "Hg5wqI171I3g",
        "outputId": "93432589-b19b-4f84-f71d-ee32e8a5a89b"
      },
      "outputs": [
        {
          "output_type": "stream",
          "name": "stdout",
          "text": [
            "139\n",
            "45\n",
            "[4, 30, 2, 10]\n",
            "[5, 4, 17, 19, 30]\n"
          ]
        }
      ],
      "source": [
        "#1\n",
        "list = [5, 4, 17, 19, 30, 2, 7, 10, 45]\n",
        "print(sum(list))\n",
        "#2\n",
        "print(max(list))\n",
        "#3\n",
        "newlist = [x for x in list if x%2==0]\n",
        "print(newlist)\n",
        "#4\n",
        "print(list[0:5])\n"
      ]
    }
  ]
}